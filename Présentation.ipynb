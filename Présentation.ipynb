{
 "cells": [
  {
   "cell_type": "raw",
   "metadata": {
    "slideshow": {
     "slide_type": "slide"
    }
   },
   "source": [
    "Avertissement : Nous vous invitons à visionner ce notebook dans des diapositives. \n",
    "Si vous ne disposez pas du module en local, tappez dans un interpreteur Python pip install rise. \n",
    "Vous devriez ensuite voir apparaître sur votre barre de commandes une icône ressemblant à un histogramme. \n",
    "Cliquez dessus et... corrigez \n",
    "\n",
    "Bonne lecture"
   ]
  },
  {
   "cell_type": "markdown",
   "metadata": {
    "slideshow": {
     "slide_type": "slide"
    }
   },
   "source": [
    "# Projet Mathématiques Informatique II: Equations différentielles\n",
    "\n",
    "## Louis Perrotin\n",
    "## Augustin Jacquillat "
   ]
  },
  {
   "cell_type": "markdown",
   "metadata": {
    "slideshow": {
     "slide_type": "slide"
    }
   },
   "source": [
    "# 0.Introduction\n",
    "\n",
    "Cher lecteur. \n",
    "\n",
    "Nous nous proposons dans ce notebook d'apporter une réponse à la question du choix de pas de temps optimal dans la résolution numérique d'équations différentielles.\n",
    "    Il est à noter que nous considérerons des équations différentielles pour des fonctions $x:t \\in \\mathbb{R} \\to x(t) \\in \\mathbb{R} ^n$. Elles sont exprimées sous la forme $x'=f(x)$. \n",
    "\n",
    "Notre travail s'articule en deux parties. \n",
    "\n",
    "    Dans la première nous écrivons deux fonctions Python permettant de résoudre une équation différentielle en utilisant un pas de temps constant.\n",
    "    \n",
    "    Dans la seconde partie, nous cherchons à déterminer un pas de temps variable qui permette d'obtenir une bonne approximation de la solution réele, nous étudions les critères à interroger et proposons l'analyse d'une fonction basée sur le pas de temps variable trouvé. "
   ]
  },
  {
   "cell_type": "markdown",
   "metadata": {
    "slideshow": {
     "slide_type": "slide"
    }
   },
   "source": [
    "# 1. Méthodes à pas constant\n",
    "## 1.1. Une méthode d'ordre 1: Euler explicite \n",
    "## 1.2. Une méthode d'ordre 2:        Aipmubjqqerhqmrifhemqidvujfmziuejgvfmiezodrfvmiqezujrfvkiqjsdn,fvlkm,s dvmlk;, sdfmkvjnskdjvnksdjnvkdsjnvkjsdnvkjdnjsvkndjskvnksjdvnksjdnvkjsdnvksjdnvksjdnvksjdnvkjsndkvjnsdkvjnskdjvnksjdnvkjdnvksjnv"
   ]
  },
  {
   "cell_type": "markdown",
   "metadata": {
    "slideshow": {
     "slide_type": "slide"
    }
   },
   "source": [
    "## 1.1. Une méthode d'ordre 1: Euler explicite\n",
    "\n"
   ]
  },
  {
   "cell_type": "markdown",
   "metadata": {
    "slideshow": {
     "slide_type": "slide"
    }
   },
   "source": [
    "## 1.2. Une méthode d'ordre 2: blablablablablablablablablbablal\n",
    "\n",
    "\n"
   ]
  },
  {
   "cell_type": "markdown",
   "metadata": {
    "slideshow": {
     "slide_type": "slide"
    }
   },
   "source": [
    "# 2. Pas de temps variable \n",
    "\n",
    "## 2.1. Choix de l'erreur à considérer \n",
    "## 2.2. Erreur absolue locale en fonction du pas de temps \n",
    "## 2.3. Pas de temps adapté \n",
    "## 2.4. Commentaire du code \n",
    "\n"
   ]
  },
  {
   "cell_type": "markdown",
   "metadata": {
    "slideshow": {
     "slide_type": "slide"
    }
   },
   "source": [
    "## 2.1. Choix de l'erreur à considérer \n",
    "\n",
    "   Pour travailler, il convient de garder à l'esprit le fait que les ordinateurs ont une puissance de calcul limitée. Aussi, si prendre un pas de temps pour la résolution très faible parrait en première approche une bonne sollution, c'est en réalité une catastrophe à cause des temps de calcul trop important. \n",
    "   Nous préférons donc adapter le pas de temps à la situation rencontré, à l'erreur commise... si l'on peut en avoir une idée $\\textit{a priori} $. Nous "
   ]
  },
  {
   "cell_type": "code",
   "execution_count": null,
   "metadata": {},
   "outputs": [],
   "source": []
  }
 ],
 "metadata": {
  "celltoolbar": "Diaporama",
  "kernelspec": {
   "display_name": "Python 3",
   "language": "python",
   "name": "python3"
  },
  "language_info": {
   "codemirror_mode": {
    "name": "ipython",
    "version": 3
   },
   "file_extension": ".py",
   "mimetype": "text/x-python",
   "name": "python",
   "nbconvert_exporter": "python",
   "pygments_lexer": "ipython3",
   "version": "3.7.4"
  }
 },
 "nbformat": 4,
 "nbformat_minor": 2
}
