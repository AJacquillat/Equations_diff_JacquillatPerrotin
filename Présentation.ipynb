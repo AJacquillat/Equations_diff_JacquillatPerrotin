{
 "cells": [
  {
   "cell_type": "raw",
   "metadata": {
    "slideshow": {
     "slide_type": "slide"
    }
   },
   "source": [
    "Avertissement : Nous vous invitons à visionner ce notebook dans des diapositives. \n",
    "Si vous ne disposez pas du module en local, tappez dans un interpreteur Python pip install rise. \n",
    "Vous devriez ensuite voir apparaître sur votre barre de commandes une icône ressemblant à un histogramme. \n",
    "Cliquez dessus et... corrigez \n",
    "\n",
    "Bonne lecture"
   ]
  },
  {
   "cell_type": "markdown",
   "metadata": {
    "slideshow": {
     "slide_type": "slide"
    }
   },
   "source": [
    "# Projet Mathématiques Informatique II: Equations différentielles\n",
    "\n",
    "## Louis Perrotin\n",
    "## Augustin Jacquillat "
   ]
  },
  {
   "cell_type": "markdown",
   "metadata": {
    "slideshow": {
     "slide_type": "slide"
    }
   },
   "source": [
    "# 0.Introduction\n",
    "\n",
    "Cher lecteur. \n",
    "\n",
    "Nous nous proposons dans ce notebook d'apporter une réponse à la question du choix de pas de temps optimal dans la résolution numérique d'équations différentielles.\n",
    "    Il est à noter que nous considérerons des équations différentielles pour des fonctions $x:t \\in \\mathbb{R} \\to x(t) \\in \\mathbb{R} ^n$. Elles sont exprimées sous la forme $x'=f(x)$. \n",
    "\n",
    "Notre travail s'articule en deux parties. \n",
    "\n",
    "    Dans la première nous écrivons deux fonctions Python permettant de résoudre une équation différentielle en utilisant un pas de temps constant.\n",
    "    \n",
    "    Dans la seconde partie, nous cherchons à déterminer un pas de temps variable qui permette d'obtenir une bonne approximation de la solution réele, nous étudions les critères à interroger et proposons l'analyse d'une fonction basée sur le pas de temps variable trouvé. "
   ]
  },
  {
   "cell_type": "markdown",
   "metadata": {
    "slideshow": {
     "slide_type": "slide"
    }
   },
   "source": [
    "# 1. Méthodes à pas constant\n",
    "## 1.1. Une méthode d'ordre 1: Euler explicite \n",
    "## 1.2. Une méthode d'ordre 2:        Aipmubjqqerhqmrifhemqidvujfmziuejgvfmiezodrfvmiqezujrfvkiqjsdn,fvlkm,s dvmlk;, sdfmkvjnskdjvnksdjnvkdsjnvkjsdnvkjdnjsvkndjskvnksjdvnksjdnvkjsdnvksjdnvksjdnvksjdnvkjsndkvjnsdkvjnskdjvnksjdnvkjdnvksjnv"
   ]
  },
  {
   "cell_type": "markdown",
   "metadata": {
    "slideshow": {
     "slide_type": "slide"
    }
   },
   "source": [
    "## 1.1. Une méthode d'ordre 1: Euler explicite\n",
    "\n"
   ]
  },
  {
   "cell_type": "markdown",
   "metadata": {
    "slideshow": {
     "slide_type": "slide"
    }
   },
   "source": [
    "## 1.2. Une méthode d'ordre 2: blablablablablablablablablbablal\n",
    "\n",
    "\n"
   ]
  },
  {
   "cell_type": "markdown",
   "metadata": {
    "slideshow": {
     "slide_type": "slide"
    }
   },
   "source": [
    "# 2. Pas de temps variable \n",
    "\n",
    "## 2.1. Choix de l'erreur à considérer \n",
    "## 2.2. Erreur absolue locale en fonction du pas de temps \n",
    "## 2.3. Pas de temps adapté \n",
    "## 2.4. Commentaire du code \n",
    "\n"
   ]
  },
  {
   "cell_type": "markdown",
   "metadata": {
    "slideshow": {
     "slide_type": "slide"
    }
   },
   "source": [
    "## 2.1. Choix de l'erreur à considérer "
   ]
  },
  {
   "cell_type": "markdown",
   "metadata": {
    "slideshow": {
     "slide_type": "-"
    }
   },
   "source": [
    "Nous rappelons que l'étude proposée est celle d'une équation différentielle donnée sous la forme suivante:\n",
    "$\\forall t \\in \\mathbb{R}\\quad  \\dot{x(t)}=f(t,x(t)) $ où $f:\\mathbb{R}²\\to\\mathbb{R}$ est une fonction supposée $C^1$. De plus, on suppose que la méthode de résolution choisie est celle d'Euler explicite. "
   ]
  },
  {
   "cell_type": "markdown",
   "metadata": {
    "slideshow": {
     "slide_type": "-"
    }
   },
   "source": [
    "Pour travailler, il convient de garder à l'esprit le fait que les ordinateurs ont une puissance de calcul limitée. Aussi, si prendre un pas de temps pour la résolution très faible paraît en première approche une bonne solution, c'est en réalité une catastrophe à cause des temps de calcul trop importants. "
   ]
  },
  {
   "cell_type": "markdown",
   "metadata": {
    "slideshow": {
     "slide_type": "-"
    }
   },
   "source": [
    "Nous préférons donc adapter le pas de temps à la situation rencontrée, à l'erreur commise... si l'on peut en avoir une idée $\\textit{a priori} $. En considérant l'erreur absolue locale, définie par $e^{i+1}=x^i+\\int_{t_i}^{t_{i+1}}f(s,x(s))ds-x^{i+1}$, nous allons montrer que l'on peut se fixer une tolérance d'erreur et adapter en fonction de celle-ci le pas de temps. "
   ]
  },
  {
   "cell_type": "markdown",
   "metadata": {
    "slideshow": {
     "slide_type": "slide"
    }
   },
   "source": [
    "## 2.2. Erreur absolue locale en fonction du pas de temps "
   ]
  },
  {
   "cell_type": "markdown",
   "metadata": {
    "slideshow": {
     "slide_type": "-"
    }
   },
   "source": [
    " Nous nous souhaitons nous assurer de borner l'erreur absolue locale par une quantitée $Tol_{abs}$ fixée par l'utilisateur. "
   ]
  },
  {
   "cell_type": "markdown",
   "metadata": {
    "slideshow": {
     "slide_type": "-"
    }
   },
   "source": [
    " Nous souhaitons nous assurer de borner l'erreur absolue locale par une quantitée $Tol_{abs}$ fixée par l'utilisateur.\n",
    " \n",
    " L'expression que prend l'erreur absolue locale est : $e^{i+1}=x^i+\\int_{t_i}^{t_{i+1}}f(s,x(s))ds-x^{i+1}$, expression dans laquelle il est implicitement supposée que $x_i=x(t_i) $. \n",
    " \n",
    " Le schéma utilisé pour l'intégration est celui d'Euler explicite. En notant $\\Delta t_i=t_{i+1}-t_i$, on obtient $x_{i+1}-x_i=\\Delta t_i f(t_i,x_i)$.  Ainsi: \n",
    " \n",
    " $ \\quad e^{i+1}=-\\Delta t_i f(t_i,x_i)+\\int_{t_i}^{t_{i+1}}f(s,x(s))ds$\n",
    "\n",
    " \n",
    " "
   ]
  },
  {
   "cell_type": "markdown",
   "metadata": {
    "slideshow": {
     "slide_type": "-"
    }
   },
   "source": [
    "Posons $g:\\mathbb{R}\\to\\mathbb{R} \\\\ s\\mapsto f(s,x(s)) $. Cette fonction est $C^1$ commme composée de fonctions $C^1$ (f l'étant par hypothèse, x par l'égalité entre $\\dot x$ et f à tout instant). Donc, on peut faire un développement de Taylor à l'ordre 1 au point $t_i$ de la fonction g.\n",
    "\n",
    "Au voisinage de $t_i$:\n",
    "\n",
    "$g(s)=g(t_i)+g'(t_i)(s-t_i)+h(s)$ où $ h(s)=O((s-t_i)²)$\n",
    "\n",
    "En intégrant cette fonction, on obtient $\\int_{t_i}^{t_{i+1}}g(s)ds=\\Delta t_i g(t_i)+\\frac{1}{2}\\Delta t_i² g'(t_i)+O((s-t_i)^3)$\n",
    "\n",
    "Ainsi, $ \\mathbf{ e^{i+1}}=-\\Delta t_i f(t_i,x_i)+\\int_{t_i}^{t_{i+1}}g(s)ds\\mathbf{=\\frac{1}{2}\\Delta t_i² g'(t_i)+O((s-t_i)^3)}$\n"
   ]
  }
 ],
 "metadata": {
  "celltoolbar": "Diaporama",
  "kernelspec": {
   "display_name": "Python 3",
   "language": "python",
   "name": "python3"
  },
  "language_info": {
   "codemirror_mode": {
    "name": "ipython",
    "version": 3
   },
   "file_extension": ".py",
   "mimetype": "text/x-python",
   "name": "python",
   "nbconvert_exporter": "python",
   "pygments_lexer": "ipython3",
   "version": "3.7.4"
  }
 },
 "nbformat": 4,
 "nbformat_minor": 2
}
