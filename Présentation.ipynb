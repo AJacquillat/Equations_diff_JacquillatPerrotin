{
 "cells": [
  {
   "cell_type": "raw",
   "metadata": {
    "slideshow": {
     "slide_type": "slide"
    }
   },
   "source": [
    "Avertissement : Nous vous invitons à visionner ce notebook dans des diapositives. \n",
    "Si vous ne disposez pas du module en local, tappez dans un interpreteur Python pip install rise. \n",
    "Vous devriez ensuite voir apparaître sur votre barre de commandes une icône ressemblant à un histogramme. \n",
    "Cliquez dessus et... corrigez \n",
    "\n",
    "Bonne lecture"
   ]
  },
  {
   "cell_type": "markdown",
   "metadata": {
    "slideshow": {
     "slide_type": "slide"
    }
   },
   "source": [
    "# Projet Mathématiques Informatique II: Equations différentielles\n",
    "\n",
    "## Louis Perrotin\n",
    "## Augustin Jacquillat "
   ]
  },
  {
   "cell_type": "markdown",
   "metadata": {
    "slideshow": {
     "slide_type": "slide"
    }
   },
   "source": [
    "# 0.Introduction\n",
    "Cher lecteur.\n",
    "Nous nous proposons dans ce notebook d'apporter une réponse à la question du choix de pas de temps optimal dans la résolution numérique d'équations différentielles.\n",
    "Notre travaille s'articule en deux parties. Dans la première nous écrivons deux fonctions Python permettant de résoudre une équation différentielle. "
   ]
  }
 ],
 "metadata": {
  "celltoolbar": "Diaporama",
  "kernelspec": {
   "display_name": "Python 3",
   "language": "python",
   "name": "python3"
  },
  "language_info": {
   "codemirror_mode": {
    "name": "ipython",
    "version": 3
   },
   "file_extension": ".py",
   "mimetype": "text/x-python",
   "name": "python",
   "nbconvert_exporter": "python",
   "pygments_lexer": "ipython3",
   "version": "3.7.4"
  }
 },
 "nbformat": 4,
 "nbformat_minor": 2
}
