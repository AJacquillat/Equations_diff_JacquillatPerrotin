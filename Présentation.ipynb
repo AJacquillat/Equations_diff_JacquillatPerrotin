{
 "cells": [
  {
   "cell_type": "raw",
   "metadata": {
    "slideshow": {
     "slide_type": "slide"
    }
   },
   "source": [
    "Avertissement : Nous vous invitons à visionner ce notebook dans des diapositives. \n",
    "Si vous ne disposez pas du module en local, tappez dans un interpreteur Python pip install rise. \n",
    "Vous devriez ensuite voir apparaître sur votre barre de commandes une icône ressemblant à un histogramme. \n",
    "Cliquez dessus et... corrigez \n",
    "\n",
    "n.b.:Toutes les slides -à l'exception de l'annexe- sont de tailles prévues pour tenir sur l'écran d'un ordinateur. Si elles ne tiennent pas sur le vôtre, changez s'il vous plait le zoom de votre navigateur. \n"
   ]
  },
  {
   "cell_type": "markdown",
   "metadata": {
    "slideshow": {
     "slide_type": "slide"
    }
   },
   "source": [
    "# Projet Mathématiques Informatique II: Equations différentielles\n",
    "\n",
    "## Louis Perrotin\n",
    "## Augustin Jacquillat "
   ]
  },
  {
   "cell_type": "markdown",
   "metadata": {
    "slideshow": {
     "slide_type": "slide"
    }
   },
   "source": [
    "# 0.Introduction\n",
    "\n",
    "Cher lecteur. \n",
    "\n",
    "Nous nous proposons dans ce notebook d'apporter une réponse à la question du choix de pas de temps optimal dans la résolution numérique d'équations différentielles.\n",
    "    Il est à noter que nous considérerons des équations différentielles pour des fonctions $x:t \\in \\mathbb{R} \\to x(t) \\in \\mathbb{R} ^n$. Elles sont exprimées sous la forme $x'=f(x)$. \n",
    "\n",
    "Notre travail s'articule en deux parties. \n",
    "\n",
    "    Dans la première nous écrivons deux fonctions Python permettant de résoudre une équation différentielle en utilisant un pas de temps constant.\n",
    "    \n",
    "    Dans la seconde partie, nous cherchons à déterminer un pas de temps variable qui permette d'obtenir une bonne approximation de la solution réele, nous étudions les critères à interroger et proposons l'analyse d'une fonction basée sur le pas de temps variable trouvé. \n",
    "    \n",
    "    \n",
    "Une troisème partie dite annexe vous est proposée. Vous y trouverez le cas de l'oscillateur harmonique traité par les méthodes d'Euler explicite et de Heun.  "
   ]
  },
  {
   "cell_type": "markdown",
   "metadata": {
    "slideshow": {
     "slide_type": "slide"
    }
   },
   "source": [
    "# 1. Méthodes à pas constant\n",
    "## 1.1. Une méthode d'ordre 1: Euler explicite\n",
    "    1.1.a. Fonctions à valeurs réelles: le script \n",
    "    1.1.b. Fonctions à valeurs réelles: un exemple de résolution \n",
    "    1.1.c. Fonctions à valeurs vectorielles: le script \n",
    "    1.1.d. Fonctions à valeurs vectorielles: un exemple de résolution\n",
    "## 1.2. Une méthode d'ordre 2: Heun\n",
    "    1.2.a. Méthode de Heun: le script \n",
    "    1.2.b. Méthode de Heun: un exemple "
   ]
  },
  {
   "cell_type": "markdown",
   "metadata": {
    "slideshow": {
     "slide_type": "slide"
    }
   },
   "source": [
    "## 1.1. Une méthode d'ordre 1: Euler explicite\n",
    "\n"
   ]
  },
  {
   "cell_type": "markdown",
   "metadata": {
    "slideshow": {
     "slide_type": "slide"
    }
   },
   "source": [
    "### 1.1.a. Fonctions à valeurs réelles : le script \n"
   ]
  },
  {
   "cell_type": "raw",
   "metadata": {},
   "source": [
    "Nous importons les modules suivants pour le reste du notebook : "
   ]
  },
  {
   "cell_type": "code",
   "execution_count": null,
   "metadata": {},
   "outputs": [],
   "source": [
    "from mpl_toolkits.mplot3d import Axes3D\n",
    "import numpy as np\n",
    "from scipy.integrate import solve_ivp\n",
    "import matplotlib; \n",
    "import matplotlib.pyplot as plt\n",
    "import seaborn as sns\n",
    "sns.set()"
   ]
  },
  {
   "cell_type": "markdown",
   "metadata": {},
   "source": [
    "Dans le programme ci-dessous, nous considérons des fonction à valeurs dans $\\mathbb{R}$ qui nous servira pour traiter le cas à valeurs dans $\\mathbb{R}^n$"
   ]
  },
  {
   "cell_type": "code",
   "execution_count": null,
   "metadata": {
    "slideshow": {
     "slide_type": "-"
    }
   },
   "outputs": [],
   "source": [
    "def solve_euler_explicit(f,x0,dt,t0,tf):\n",
    "    t=[t0]\n",
    "    x=[x0]\n",
    "    while t[-1]<tf:\n",
    "        x.append(x[-1]+dt*f(t[-1],x[-1]))\n",
    "        t.append(t[-1]+dt)\n",
    "    return (t,x) \n"
   ]
  },
  {
   "cell_type": "markdown",
   "metadata": {
    "slideshow": {
     "slide_type": "slide"
    }
   },
   "source": [
    "## 1.1.b. Fonctions à valeurs réelles: un exemple \n",
    "\n"
   ]
  },
  {
   "cell_type": "markdown",
   "metadata": {
    "slideshow": {
     "slide_type": "-"
    }
   },
   "source": [
    "On va tester le solver avec l'équation différentielle y'+y=0, et y(0)=1 sur l'intervalle [0;10], avec un pas de temps de 0.001. La solution est la fonction définie sur $\\mathbb{R}$ par $f(x)=e^{-x}$"
   ]
  },
  {
   "cell_type": "code",
   "execution_count": null,
   "metadata": {
    "scrolled": true,
    "slideshow": {
     "slide_type": "-"
    }
   },
   "outputs": [],
   "source": [
    "#Paramètres d'entrée\n",
    "dt=0.001\n",
    "t0=0\n",
    "tf=10\n",
    "x0=1\n",
    "\n",
    "def f(t,x):\n",
    "    return -x\n",
    "\n",
    "def fonction_reference(dt,t0,tf,x0):\n",
    "    les_t=[t0]\n",
    "    les_x=[x0]\n",
    "    while les_t[-1]<tf:\n",
    "        les_t.append(les_t[-1]+dt)\n",
    "        les_x.append(np.exp(-les_t[-1]))\n",
    "        \n",
    "    return (les_t,les_x)\n",
    "\n",
    "les_t2,les_x2=solve_euler_explicit(f,x0,dt,t0,tf)\n",
    "les_t,les_x=fonction_reference(dt,t0,tf,x0)\n",
    "##Voir SLIDE SUIVANTE pour les résultats du programme\n"
   ]
  },
  {
   "cell_type": "markdown",
   "metadata": {
    "slideshow": {
     "slide_type": "slide"
    }
   },
   "source": [
    "## 1.1.b. Fonctions à valeurs réelles: un exemple \n",
    "\n"
   ]
  },
  {
   "cell_type": "code",
   "execution_count": null,
   "metadata": {
    "slideshow": {
     "slide_type": "-"
    }
   },
   "outputs": [],
   "source": [
    "plt.plot(les_t,les_x)\n",
    "plt.plot(les_t2,les_x2,\"r--\")\n",
    "plt.title('Courbes superposées de la fonction solution et de la résolution numérique')\n",
    "plt.ylabel('Solution numérique en rouge')\n",
    "plt.xlabel('temps t, dt=0.001')\n",
    "plt.show()\n",
    "\n",
    "les_x=np.array(les_x)    \n",
    "les_x2=np.array(les_x2)\n",
    "\n",
    "plt.plot(les_t,les_x-les_x2)\n",
    "plt.title(\"Tracé de l'erreur de troncature en fonction du temps\")\n",
    "plt.xlabel('temps t, dt=0.001')\n",
    "plt.show()   "
   ]
  },
  {
   "cell_type": "markdown",
   "metadata": {
    "slideshow": {
     "slide_type": "slide"
    }
   },
   "source": [
    "## 1.1.b. Fonctions à valeurs réelles: un exemple \n",
    "\n"
   ]
  },
  {
   "cell_type": "markdown",
   "metadata": {
    "slideshow": {
     "slide_type": "-"
    }
   },
   "source": [
    "On va maintenant chercher à illustrer le fait que notre schéma soit un $\\textbf{d'ordre 1}$.\n",
    "Pour cela, on va faire un graphe de l'erreur de troncature maximale en fonction de dt, dt allant de 0.0001 à 0.1."
   ]
  },
  {
   "cell_type": "code",
   "execution_count": null,
   "metadata": {
    "scrolled": true,
    "slideshow": {
     "slide_type": "-"
    }
   },
   "outputs": [],
   "source": [
    "les_dt=np.linspace(0.0001,.1,1000)\n",
    "erreur_tronc=[]\n",
    "for delta in les_dt:\n",
    "    les_x2=solve_euler_explicit(f,x0,delta,t0,tf)[1]\n",
    "    les_x=fonction_reference(delta,t0,tf,x0)[1]\n",
    "    les_x=np.array(les_x)    \n",
    "    les_x2=np.array(les_x2)\n",
    "    erreur_tronc.append(max(abs(les_x-les_x2)))\n",
    "\n",
    "plt.plot(les_dt,erreur_tronc)\n",
    "plt.axis('equal')\n",
    "plt.title('Erreur de troncature maximale en fonction des pas de temps choisi')\n",
    "plt.xlabel('Pas de temps dt')\n",
    "plt.show()     \n"
   ]
  },
  {
   "cell_type": "markdown",
   "metadata": {
    "slideshow": {
     "slide_type": "slide"
    }
   },
   "source": [
    "## 1.1.c. Fonctions à valeurs vectorielles : le script"
   ]
  },
  {
   "cell_type": "markdown",
   "metadata": {
    "slideshow": {
     "slide_type": "-"
    }
   },
   "source": [
    "Nous présentons ci dessous le script de la méthode d'Euler avec des fonctions à valeurs dans $\\mathbb{R}^n$. Il est très similaire au script pour des fonctions à valeurs réelles uniquement. "
   ]
  },
  {
   "cell_type": "code",
   "execution_count": null,
   "metadata": {
    "slideshow": {
     "slide_type": "-"
    }
   },
   "outputs": [],
   "source": [
    "def solve_euler_explicit(f,x0,dt,t0,tf):\n",
    "    t=[t0]\n",
    "    x=np.array([x0])\n",
    "    while t[-1]<tf:\n",
    "        a=x[-1]+dt*f(t[-1],x[-1])\n",
    "        a=np.array([a])\n",
    "        x=np.insert(x,len(x),a,axis=0)\n",
    "        t.append(t[-1]+dt)\n",
    "    return (t,x)\n"
   ]
  },
  {
   "cell_type": "markdown",
   "metadata": {
    "slideshow": {
     "slide_type": "slide"
    }
   },
   "source": [
    "## 1.1.d. Fonctions à valeurs vectorielles : un exemple"
   ]
  },
  {
   "cell_type": "markdown",
   "metadata": {
    "slideshow": {
     "slide_type": "-"
    }
   },
   "source": [
    "On va tester le solver avec l'équation différentielle y''+0.7y'+10y=0, et y(0)=0.5 et y'(0)=0 sur l'intervalle [0;10], avec un pas de temps de 0.001. Il s'agit d'un oscillateur amorti.\n",
    "    \n",
    "La solution est la fonction définie sur R par f(t)=0.5*exp(-0.35*t)*cos(3.14*t)"
   ]
  },
  {
   "cell_type": "code",
   "execution_count": null,
   "metadata": {
    "scrolled": true,
    "slideshow": {
     "slide_type": "-"
    }
   },
   "outputs": [],
   "source": [
    "#Paramètres d'entrée\n",
    "dt=0.001\n",
    "t0=0\n",
    "tf=10\n",
    "x0=[0.5,0]\n",
    "\n",
    "def f(t,x):\n",
    "    return np.array([x[1],-0.7*x[1]-10*x[0]])\n",
    "\n",
    "def fonction_reference(dt,t0,tf,x0):\n",
    "    les_t=[t0]\n",
    "    les_x=[x0]\n",
    "    while les_t[-1]<tf:\n",
    "        les_t.append(les_t[-1]+dt)\n",
    "        les_x.append(0.5*np.exp(-les_t[-1]*0.7/2)*np.cos(6.285698/2*les_t[-1]))\n",
    "    return (les_t,les_x)\n",
    "\n",
    "les_t2,les_x2=solve_euler_explicit(f,x0,dt,t0,tf)\n",
    "les_t,les_x=fonction_reference(dt,t0,tf,x0[0])\n",
    "\n",
    "#Voir la SLIDE SUIVANTE pour les résultats\n",
    "\n",
    "plt.plot(les_t2,les_x2[:,0],\"r--\")\n",
    "plt.plot(les_t,les_x)\n",
    "plt.title('Courbes superposées de la fonction solution \\net de la résolution numérique')\n",
    "plt.ylabel('Solution numérique en rouge \\nPosition x')\n",
    "plt.xlabel('temps t, dt=0.001')\n",
    "plt.show()\n",
    "\n",
    "les_x=np.array(les_x)    \n",
    "\n",
    "plt.plot(les_t,les_x-les_x2[:,0])\n",
    "plt.title(\"Tracé de l'erreur de troncature en fonction du temps\")\n",
    "plt.xlabel('temps t, dt=0.001')\n",
    "plt.ylabel('Position x')\n",
    "plt.show()   "
   ]
  },
  {
   "cell_type": "markdown",
   "metadata": {
    "slideshow": {
     "slide_type": "slide"
    }
   },
   "source": [
    "## 1.2. Une méthode d'ordre 2: Heun\n",
    "\n",
    "\n"
   ]
  },
  {
   "cell_type": "markdown",
   "metadata": {
    "slideshow": {
     "slide_type": "slide"
    }
   },
   "source": [
    "### 1.2.a. Méthode de Heun: le script "
   ]
  },
  {
   "cell_type": "markdown",
   "metadata": {},
   "source": [
    "Nous choisissons comme méthode d'ordre 2 la méthode de Heun. Cette méthode consiste à approximer la valeur de l'intégrale par l'aire du trapère en estimant la valeur finale. Cela revient à écrire : $x^{i+1}=x^i+\\frac{\\Delta t_i}{2}\\Big(f(t_i,x^i)+f\\big(t_{i+1},x^i\\Delta t_if(t_i,x^i)\\big)\\Big)$"
   ]
  },
  {
   "cell_type": "code",
   "execution_count": null,
   "metadata": {
    "slideshow": {
     "slide_type": "-"
    }
   },
   "outputs": [],
   "source": [
    "def solve_heun(f,x0,dt,t0,tf):\n",
    "    t=[t0]\n",
    "    x=np.array([x0])\n",
    "    while t[-1]<tf:\n",
    "        a=x[-1]+dt/2*(f(t[-1],x[-1])+f(t[-1]+dt,x[-1]+dt*f(t[-1],x[-1])))\n",
    "        a=np.array([a])\n",
    "        x=np.concatenate((x,a),axis=0)\n",
    "        t.append(t[-1]+dt)\n",
    "    return (t,x)"
   ]
  },
  {
   "cell_type": "markdown",
   "metadata": {
    "slideshow": {
     "slide_type": "slide"
    }
   },
   "source": [
    "### 1.2.b. Méthode de Heun: un exemple "
   ]
  },
  {
   "cell_type": "markdown",
   "metadata": {
    "slideshow": {
     "slide_type": "-"
    }
   },
   "source": [
    "On va tester le solver avec l'équation différentielle y'+y=0, et y(0)=1 sur l'intervalle [0;10], avec un pas de temps de 0.001. La solution est la fonction définie sur $\\mathbb{R}$ par $f(x)=e^{-x}$"
   ]
  },
  {
   "cell_type": "code",
   "execution_count": null,
   "metadata": {
    "scrolled": true,
    "slideshow": {
     "slide_type": "-"
    }
   },
   "outputs": [],
   "source": [
    "#Paramètre d'entrée\n",
    "dt=0.001\n",
    "t0=0\n",
    "tf=10\n",
    "x0=1\n",
    "\n",
    "def f(t,x):\n",
    "    return -x\n",
    "\n",
    "def fonction_reference(dt,t0,tf,x0):\n",
    "    les_t=[t0]\n",
    "    les_x=[x0]\n",
    "    while les_t[-1]<tf:\n",
    "        les_t.append(les_t[-1]+dt)\n",
    "        les_x.append(np.exp(-les_t[-1]))\n",
    "        \n",
    "    return (les_t,les_x)\n",
    "\n",
    "les_t2,les_x2=solve_heun(f,x0,dt,t0,tf)\n",
    "les_t,les_x=fonction_reference(dt,t0,tf,x0)\n",
    "\n",
    "plt.plot(les_t,les_x)\n",
    "plt.plot(les_t2,les_x2,'r--')\n",
    "plt.title('Courbes superposées de la fonction solution et de la résolution numérique')\n",
    "plt.ylabel('Solution numérique en rouge')\n",
    "plt.xlabel('temps t, dt=0.001')\n",
    "plt.show()\n",
    "\n",
    "les_x=np.array(les_x)    \n",
    "les_x2=np.array(les_x2)\n",
    "\n",
    "les_x=np.array(les_x)    \n",
    "\n",
    "plt.plot(les_t,les_x-les_x2)\n",
    "plt.title(\"Tracé de l'erreur de troncature en fonction du temps\")\n",
    "plt.xlabel('temps t, dt=0.001')\n",
    "plt.show()   "
   ]
  },
  {
   "cell_type": "markdown",
   "metadata": {
    "slideshow": {
     "slide_type": "slide"
    }
   },
   "source": [
    "### 1.2.b. Méthode de Heun: un exemple "
   ]
  },
  {
   "cell_type": "markdown",
   "metadata": {
    "slideshow": {
     "slide_type": "-"
    }
   },
   "source": [
    "On va maintenant chercher à illustrer le fait que notre schéma soit d'ordre 2.\n",
    "Pour cela, on va faire un graphe de l'erreur de troncature maximale en fonction de dt, dt allant de 0.0001 à 0.1. Si l'on prend une échelle quadratique en dt, on devrait donc avoir une droite.   "
   ]
  },
  {
   "cell_type": "code",
   "execution_count": null,
   "metadata": {
    "slideshow": {
     "slide_type": "-"
    }
   },
   "outputs": [],
   "source": [
    "les_dt=np.linspace(0.0001,.1,100)\n",
    "erreur_tronc=[]\n",
    "for delta in les_dt:\n",
    "    les_t2,les_x2=solve_heun(f,x0,delta,t0,tf)\n",
    "    les_t,les_x=fonction_reference(delta,t0,tf,x0)\n",
    "    les_x=np.array(les_x)    \n",
    "    erreur_tronc.append(max(abs((les_x-les_x2))))\n",
    "\n",
    "les_dt2=[k**2 for k in les_dt]\n",
    "plt.plot(les_dt2,erreur_tronc)\n",
    "plt.title('Erreur de troncature maximale en fonction des pas de temps choisi')\n",
    "plt.xlabel('Pas de temps dt en échelle quadratique')\n",
    "plt.show() "
   ]
  },
  {
   "cell_type": "markdown",
   "metadata": {
    "slideshow": {
     "slide_type": "slide"
    }
   },
   "source": [
    "Les méthodes jusqu'içi mises en oeuvre sont des méthodes à pas constant. Cela peut s'avérer être un inconvéniant en terme de temps de calcul. C'est pourquoi nous allons développer une méthode à pas variable. "
   ]
  },
  {
   "cell_type": "markdown",
   "metadata": {
    "slideshow": {
     "slide_type": "slide"
    }
   },
   "source": [
    "# 2. Pas de temps variable \n",
    "\n",
    "## 2.1. Choix de l'erreur à considérer \n",
    "## 2.2. Erreur absolue locale en fonction du pas de temps \n",
    "## 2.3. Pas de temps adapté \n",
    "## 2.4. Commentaire du code \n",
    "\n"
   ]
  },
  {
   "cell_type": "markdown",
   "metadata": {
    "slideshow": {
     "slide_type": "slide"
    }
   },
   "source": [
    "## 2.1. Choix de l'erreur à considérer "
   ]
  },
  {
   "cell_type": "markdown",
   "metadata": {
    "slideshow": {
     "slide_type": "-"
    }
   },
   "source": [
    "Nous rappelons que l'étude proposée est celle d'une équation différentielle donnée sous la forme suivante:\n",
    "$\\forall t \\in \\mathbb{R}\\quad  \\dot{x(t)}=f(t,x(t)) $ où $f:\\mathbb{R}²\\to\\mathbb{R}$ est une fonction supposée $C^1$. De plus, on suppose que la méthode de résolution choisie est celle d'Euler explicite. "
   ]
  },
  {
   "cell_type": "markdown",
   "metadata": {
    "slideshow": {
     "slide_type": "-"
    }
   },
   "source": [
    "Pour travailler, il convient de garder à l'esprit le fait que les ordinateurs ont une puissance de calcul limitée. Aussi, si prendre un pas de temps pour la résolution très faible paraît en première approche une bonne solution, c'est en réalité une catastrophe à cause des temps de calcul trop importants. "
   ]
  },
  {
   "cell_type": "markdown",
   "metadata": {
    "slideshow": {
     "slide_type": "-"
    }
   },
   "source": [
    "Nous préférons donc adapter le pas de temps à la situation rencontrée, à l'erreur commise... si l'on peut en avoir une idée $\\textit{a priori} $. En considérant l'erreur absolue locale, définie par $e^{i+1}=x^i+\\int_{t_i}^{t_{i+1}}f(s,x(s))ds-x^{i+1}$, nous allons montrer que l'on peut se fixer une tolérance d'erreur et adapter en fonction de celle-ci le pas de temps. "
   ]
  },
  {
   "cell_type": "markdown",
   "metadata": {
    "slideshow": {
     "slide_type": "slide"
    }
   },
   "source": [
    "## 2.2. Erreur absolue locale en fonction du pas de temps "
   ]
  },
  {
   "cell_type": "markdown",
   "metadata": {
    "slideshow": {
     "slide_type": "-"
    }
   },
   "source": [
    " Nous souhaitons nous assurer de borner l'erreur absolue locale par une quantitée $Tol_{abs}$ fixée par l'utilisateur. Nous développons tous les calculs pour une fonction à valeurs réelles. Une fois le résultat établi pour ces fonctions, on peut facilement passer au cas plus général en considérant les applications qui font correspondre à tout x une coordonée fixée de f(x). \n",
    " \n",
    " L'expression que prend l'erreur absolue locale est : $e^{i+1}=x^i+\\int_{t_i}^{t_{i+1}}f(s,x(s))ds-x^{i+1}$, expression dans laquelle il est implicitement supposée que $x_i=x(t_i) $. \n",
    " \n",
    "   Le schéma utilisé pour l'intégration est celui d'Euler explicite. En notant $\\Delta t_i=t_{i+1}-t_i$, on obtient $x^{i+1}-x^i=\\Delta t_i f(t_i,x^i)$.  Ainsi: \n",
    " \n",
    " $ \\quad e^{i+1}=-\\Delta t_i f(t_i,x^i)+\\int_{t_i}^{t_{i+1}}f(s,x(s))ds$\n",
    "\n",
    " \n",
    " "
   ]
  },
  {
   "cell_type": "markdown",
   "metadata": {
    "slideshow": {
     "slide_type": "slide"
    }
   },
   "source": [
    "## 2.2. Erreur absolue locale en fonction du pas de temps "
   ]
  },
  {
   "cell_type": "markdown",
   "metadata": {
    "slideshow": {
     "slide_type": "-"
    }
   },
   "source": [
    "Posons $g:\\mathbb{R}\\to\\mathbb{R} \\\\ s\\mapsto f(s,x(s)) $. Cette fonction est $C^1$ commme composée de fonctions $C^1$ (f l'étant par hypothèse, x par l'égalité entre $\\dot x$ et f à tout instant). Donc, on peut faire un développement de Taylor à l'ordre 1 au point $t_i$ de la fonction g.\n",
    "\n",
    "Au voisinage de $t_i$:\n",
    "\n",
    "$g(s)=g(t_i)+g'(t_i)(s-t_i)+h(s)$ où $ h(s)=O((s-t_i)²)$\n",
    "\n",
    "En intégrant cette fonction, on obtient $\\int_{t_i}^{t_{i+1}}g(s)ds=\\Delta t_i g(t_i)+\\frac{1}{2}\\Delta t_i² g'(t_i)+O((s-t_i)^3)$. Or, $g(t_i)=f(t_i,x(t_i))=f(t_i,x^i)$\n",
    "\n",
    "Ainsi, $ \\mathbf{ e^{i+1}}=-\\Delta t_i f(t_i,x^i)+\\int_{t_i}^{t_{i+1}}g(s)ds\\mathbf{=\\frac{1}{2}\\Delta t_i² g'(t_i)+O((s-t_i)^3)} \\quad \\quad (1)$\n"
   ]
  },
  {
   "cell_type": "markdown",
   "metadata": {
    "slideshow": {
     "slide_type": "slide"
    }
   },
   "source": [
    "## 2.2. Erreur absolue locale en fonction du pas de temps "
   ]
  },
  {
   "cell_type": "markdown",
   "metadata": {
    "slideshow": {
     "slide_type": "-"
    }
   },
   "source": [
    "De plus, en faisant un développement limité multivarié (licite car f est $C^1$), il vient:\n",
    "$(2) \\quad f(t_{i+1},x^{i+1})=f(t_i, x^i)+\\partial_t f(t_i,x^i) \\times \\Delta t_i+\\partial_x f(t_i,x^i) \\times f(t_i,x^i)\\times (x^{i+1}-x^i)+O\\left(\\left\\|(\\Delta t_i,x^{i+1}-x^i)\\right\\|^2\\right)$ .\n",
    "\n",
    "Or, par le shcéma d'Euler:  $x^{i+1}-x^i=\\Delta t_i f(t_i,x^i)$  donc  $O\\left(\\left\\|(\\Delta t_i,x^{i+1}-x^i)\\right\\|^2\\right)=O\\left(\\left\\|\\Delta t_i\\right\\|^2\\right)$ et l'égalité $(2)$ devient  $f(t_{i+1},x^{i+1})=f(t_i, x^i)+(\\partial_t f(t_i,x^i) +\\partial_x f(t_i,x^i) \\times f(t_i,x^i))\\Delta t_i+O\\left(\\left\\|\\Delta t_i\\right\\|^2\\right)$\n",
    "\n",
    "De plus, par la règle de différenciation en chaine:  $g'(t_i)=\\partial_t f(t_i,x^i)+\\partial_x f(t_i,x^i) \\times f(t_i,x^i)$. Ainsi, $(2)$ devient :\n",
    "\n",
    "$(2) \\quad f(t_{i+1},x^{i+1})=f(t_i, x^i)+g'(t_i)\\Delta t_i+O\\left(\\left\\|\\Delta t_i\\right\\|^2\\right)$ d'où : $\\mathbf{g'(t_i)=\\frac{f(t_{i+1},x^{i+1})-f(t_i, x^i)}{\\Delta t_i}+O\\left(\\left\\|\\Delta t_i\\right\\|\\right)}$"
   ]
  },
  {
   "cell_type": "markdown",
   "metadata": {
    "slideshow": {
     "slide_type": "slide"
    }
   },
   "source": [
    "## 2.2. Erreur absolue locale en fonction du pas de temps "
   ]
  },
  {
   "cell_type": "markdown",
   "metadata": {
    "slideshow": {
     "slide_type": "-"
    }
   },
   "source": [
    "En remplaçant dans $(1)$ l'expression de $g'(t_i)$, il vient, après avoir appliqué l'inégalité triangulaire que: \n",
    "\n",
    "$\\quad \\quad \\mathbf{\\left\\|e^{i+1}\\right\\|=\\left\\|\\Delta t_i\\right\\|\\frac{\\left\\|f(t_{i+1},x^{i+1})-f(t_i, x^i)\\right\\|}{2} +O\\left(\\left\\|\\Delta t_i\\right\\|^3\\right)}$"
   ]
  },
  {
   "cell_type": "markdown",
   "metadata": {
    "slideshow": {
     "slide_type": "slide"
    }
   },
   "source": [
    "## 2.3. Pas de temps adapté"
   ]
  },
  {
   "cell_type": "markdown",
   "metadata": {
    "slideshow": {
     "slide_type": "-"
    }
   },
   "source": [
    "Dans cette partie, nous voulons déterminer le pas de temps à choisir pour respecter la condition imposée sur l'erreur absolue locale. \n",
    "\n",
    "Reprenons son expression: \n",
    "\n",
    "$\\quad \\quad \\mathbf{\\left\\|e^{i+1}\\right\\|=\\left\\|\\Delta t_i\\right\\|\\frac{\\left\\|f(t_{i+1},x^{i+1})-f(t_i, x^i)\\right\\|}{2} +O\\left(\\left\\|\\Delta t_i\\right\\|^3\\right)}$\n",
    "\n",
    "De plus $f(t_{i+1},x^{i+1})-f(t_i, x^i)=f(t_{i+1},x^{i+1})-f(t_{i+1},x^{i})+f(t_{i+1},x^{i})-f(t_i, x^i)\\\\=\\partial_xf(t_i,x^i) \\times (x^{i+1}-x^i)+O((x^{i+1}-x^i)^2)+\\partial_tf(t_i,x^i) \\times \\Delta t_i +O(\\Delta t_i^2)$ . \n",
    "\n",
    "Or, par le schéma d'Euler :$ O((x^{i+1}-x^i)^2)=O(\\Delta t_i^2)$ . Donc:\n",
    "\n",
    "$\\quad \\quad \\mathbf{\\left\\|e^{i+1}\\right\\|=O(\\Delta t_i ^2)} \\quad \\quad$ Ainsi par définition: \n",
    "\n",
    "$\\exists \\alpha \\in \\mathbb{R} et \\exists \\varepsilon >0, \\forall \\delta < \\varepsilon, \\left\\|e^{i+1}(\\delta)\\right\\|\\leq \\alpha\\delta $ En évaluant cette expression en $\\Delta t_i$, il vient : $\\alpha \\geq \\frac{e^{j+1}}{\\Delta t_i ^2}$\n",
    "\n",
    "Si l'on choisit $\\mathbf{\\Delta t_{new}=\\Delta t_i \\sqrt{\\frac{Tol_{abs}}{\\left\\|e^{i+1}\\right\\|}}} $\n",
    "\n",
    "\n",
    "La condition que l'on impose est :$\\left\\|e^{i+1}_{new}\\right\\|\\leq Tol_{abs}$ Cependant, on peut choisir d'imposer cette condition après la majoration: $\\left\\|e^{i+1}_{new}\\right\\|\\leq\\alpha \\Delta t_{new} \\leq Tol_{abs} \\Rightarrow \\frac{\\left\\|e^{i+1}\\right\\|}{\\Delta t_i ^2}\\Delta t_{new}^2\\leq \\alpha \\Delta t_{new}^2 \\leq Tol_{abs} $. Ainsi, on peut choisir $\\mathbf{\\Delta t_{new}=\\Delta t_i \\sqrt{\\frac{Tol_{abs}}{\\left\\|e^{i+1}\\right\\|}}} $\n",
    "\n",
    "Ce choix est un choix judicieux. En effet, on observe que quand l'erreur commise est très faible, on s'authorise un pas de temps très important et inversement ce qui permet de minimiser l'erreur et le temps de calcul. "
   ]
  },
  {
   "cell_type": "markdown",
   "metadata": {
    "slideshow": {
     "slide_type": "slide"
    }
   },
   "source": [
    "## 2.4. Commentaire du code"
   ]
  },
  {
   "cell_type": "markdown",
   "metadata": {
    "slideshow": {
     "slide_type": "-"
    }
   },
   "source": [
    "Nous présentons dans cette diapositive le code à commenter.\n",
    "Un commentaire est proposé à la diapositive suivante. "
   ]
  },
  {
   "cell_type": "code",
   "execution_count": null,
   "metadata": {
    "slideshow": {
     "slide_type": "-"
    }
   },
   "outputs": [],
   "source": [
    "\n",
    "#Paramètre d'entrée\n",
    "dt=0.05\n",
    "t0=0\n",
    "tf=2\n",
    "x0=[0.5,0]\n",
    "\n",
    "\n",
    "def solve_ivp_euler_explicit_variable_step(f, t0, x0, t_f, dtmin = 1e-16, dtmax = 0.05, atol = 1e-6):\n",
    "    dt = dtmax/10; # initial integration step\n",
    "    ts, xs = [t0], [x0]  # storage variables\n",
    "    les_dt=[dt]\n",
    "    t = t0\n",
    "    ti = 0  # internal time keeping track of time since latest storage point : must remain below dtmax\n",
    "    x = x0\n",
    "    while ts[-1] < t_f:\n",
    "        while ti < dtmax:\n",
    "            #1\n",
    "            t_next, ti_next, x_next = t + dt, ti + dt, x + dt * f(x)\n",
    "            x_back = x_next - dt * f(x_next)\n",
    "            ratio_abs_error = atol / (np.linalg.norm(x_back-x)/2)\n",
    "            dt = 0.9 * dt * np.sqrt(ratio_abs_error)\n",
    "            #2\n",
    "            if dt < dtmin:\n",
    "                raise ValueError(\"Time step below minimum\")\n",
    "            elif dt > dtmax/2:\n",
    "                dt = dtmax/2\n",
    "            #3\n",
    "            t, ti, x = t_next, ti_next, x_next\n",
    "        #4    \n",
    "        dt2DT = dtmax - ti # time left to dtmax\n",
    "        les_dt.append(dt2DT)\n",
    "        t_next, ti_next, x_next = t + dt2DT, 0, x + dt2DT * f(x)\n",
    "        ts = np.vstack([ts,t_next])\n",
    "        xs = np.vstack([xs,x_next])\n",
    "        t, ti, x = t_next, ti_next, x_next\n",
    "        #5\n",
    "    return (ts, xs.T,les_dt)\n"
   ]
  },
  {
   "cell_type": "markdown",
   "metadata": {
    "slideshow": {
     "slide_type": "slide"
    }
   },
   "source": [
    "## 2.4. Commentaire du code"
   ]
  },
  {
   "cell_type": "markdown",
   "metadata": {
    "slideshow": {
     "slide_type": "-"
    }
   },
   "source": [
    "Ce programme va calculer numériquement la solution d'une équation différentielle mais avec un\n",
    "pas de temps variable. Pour cela, il va reprendre les deux formules trouvées plus haut (evaluation de l'erreur\n",
    "et stratégie d'adaptation du pas de temps). C'est ce que fait le programme entre #1 et #2.\n",
    "La deuxième boucle while est là car on souhaite certe améliorer la précision de l'évaluation numérique\n",
    "avec un pas de temps variable, mais on veut quand même garder un espacement temporel entre deux points successifs\n",
    "de dtmax au niveau de ts. C'est cela qui va permettre de comparer les deux approche de la méthode d'Euler. \n",
    "Pour cela, on introduit :\n",
    "    - dt, le pas de temps variable, on contrôle qu'il est bien compris entre dtmin et dtmax/2 (pour faire au moins\n",
    "    deux évaluation)\n",
    "    - la variable ti, qui représente la distance temporelle (au niveau de l'axe des abscisses)\n",
    "entre le dernier point calculé et le dernier point stocké dans (ts,xs) qui a pour abscisse un multiple de dtmax.\n",
    "    - la variable x, qui stocke la valeur de la fonction à l'abscisse ts[-1]+ti.\n",
    "On ajoute à ti, après chaque itération de la boucle, le pas de temps variable dt calculé entre #1 et #3. On avance\n",
    "ainsi dans la résolution de la même façon qu'un Euler classique, à ceci près que le pas est variable et les\n",
    "valeurs calculées de la fonction ne sont plus toutes stocker, mais seulement celle de la dernière itération.\n",
    "\n",
    "Une fois que ti>tmax, on sort de la boucle et on se recale ensuite sur un point où l'abscisse est un multiple de dtmax\n",
    "(en reculant, car dt2DT est négatif). On stocke ensuite ce dernier point dans ts et xs, puis on réitère le procédé \n",
    "à partir de ce dernier point. "
   ]
  },
  {
   "cell_type": "markdown",
   "metadata": {
    "slideshow": {
     "slide_type": "slide"
    }
   },
   "source": [
    "## 2.4. Commentaire du code"
   ]
  },
  {
   "cell_type": "markdown",
   "metadata": {},
   "source": [
    "On va maintenant tester le programme avec l'équation différentielle  y''+0.7y'+10y=0, et y(0)=0.5 et y'(0)=0\n",
    "La solution est la fonction définie sur R par f(t)=0.5*exp(-0.35*t)*cos(3.14*t)"
   ]
  },
  {
   "cell_type": "code",
   "execution_count": null,
   "metadata": {
    "slideshow": {
     "slide_type": "-"
    }
   },
   "outputs": [],
   "source": [
    "def f1(x):\n",
    "    return np.array([x[1],-0.7*x[1]-10*x[0]])\n",
    "\n",
    "\n",
    "def fonction_reference(dt,t0,tf,x0):\n",
    "    les_t=[t0]\n",
    "    les_x=[x0]\n",
    "    while les_t[-1]<=tf:\n",
    "        les_t.append(les_t[-1]+dt)\n",
    "        les_x.append(0.5*np.exp(-les_t[-1]*0.7/2)*np.cos(6.285698/2*les_t[-1]))\n",
    "    return (les_t,les_x)\n",
    "\n",
    "\n",
    "les_t2,les_x2,les_dt=solve_ivp_euler_explicit_variable_step(f1,t0,x0,tf)\n",
    "les_t,les_x=fonction_reference(dt,t0,tf,x0[0])\n",
    "\n",
    "\n",
    "plt.plot(les_t2,les_x2[0],\"r--\")\n",
    "plt.plot(les_t,les_x)\n",
    "plt.title('Courbes superposées de la fonction solution \\net de la résolution numérique\\n Euler à pas de temps variable')\n",
    "plt.ylabel('Solution numérique en rouge \\nPosition x')\n",
    "plt.xlabel('temps t')\n",
    "plt.show()\n",
    "\n"
   ]
  },
  {
   "cell_type": "markdown",
   "metadata": {
    "slideshow": {
     "slide_type": "slide"
    }
   },
   "source": [
    "## 2.4. Commentaire du code"
   ]
  },
  {
   "cell_type": "markdown",
   "metadata": {},
   "source": [
    "On voit que le programme tourne bien, mais il reste à comparer son erreur de troncature\n",
    "à chaque point évalué avec celles du premier programme Euler, pour réellement juger de son\n",
    "efficacité"
   ]
  },
  {
   "cell_type": "code",
   "execution_count": null,
   "metadata": {},
   "outputs": [],
   "source": [
    "def f(t,x):\n",
    "    return np.array([x[1],-0.7*x[1]-10*x[0]])\n",
    "\n",
    "les_t3,les_x3=solve_euler_explicit(f,x0,dt,t0,tf)\n",
    "plt.plot(les_t2,les_x2[0]-les_x, 'r--')\n",
    "plt.plot(les_t3,les_x3[:,0]-les_x)\n",
    "plt.title(\"Courbes superposées de l'erreur de troncature \\nsuivant les différentes méthodes\\ny''+0.7y'+10y=0\")\n",
    "plt.ylabel('Euler à pas de temps variable en rouge \\nErreur sur la position x')\n",
    "plt.xlabel('temps t, dtmax=0.05')\n",
    "plt.show()"
   ]
  },
  {
   "cell_type": "markdown",
   "metadata": {
    "slideshow": {
     "slide_type": "slide"
    }
   },
   "source": [
    "## 2.4. Commentaire du code"
   ]
  },
  {
   "cell_type": "markdown",
   "metadata": {
    "slideshow": {
     "slide_type": "-"
    }
   },
   "source": [
    "Nous proposons içi d'autres exemples qui mettent en évidence le fait que l'erreur de troncature de la méthode à pas variable est bien plus faible que le programme initial. Le programme est donc plus efficace. Dans le premier graphe, cette tendance s'inverse localement mais cela est du aux variations de la fonctions cosinus."
   ]
  },
  {
   "cell_type": "code",
   "execution_count": null,
   "metadata": {
    "scrolled": false,
    "slideshow": {
     "slide_type": "subslide"
    }
   },
   "outputs": [],
   "source": [
    "dt=0.01\n",
    "t0=0\n",
    "tf=5\n",
    "x0=1\n",
    "\n",
    "def f3(t,x):\n",
    "    return -x\n",
    "\n",
    "def f4(x):\n",
    "    return -x\n",
    "\n",
    "\n",
    "def fonction_reference2(dt,t0,tf,x0):\n",
    "    les_t=[t0]\n",
    "    les_x=[x0]\n",
    "    while les_t[-1]<tf:\n",
    "        les_t.append(les_t[-1]+dt)\n",
    "        les_x.append(np.exp(-les_t[-1]))\n",
    "        \n",
    "    return (les_t,les_x)\n",
    "\n",
    "les_t2,les_x2,les_dt=solve_ivp_euler_explicit_variable_step(f4,t0,x0,tf,dtmax=.01)\n",
    "les_t,les_x=fonction_reference(dt,t0,tf,x0)\n",
    "\n",
    "les_t3,les_x3=solve_euler_explicit(f3,x0,dt,t0,tf)\n",
    "les_t,les_x=fonction_reference2(dt,t0,tf,x0)\n",
    "\n",
    "plt.plot(les_t2,les_x2[0]-les_x, 'r--')\n",
    "plt.plot(les_t3,np.array(les_x3)-les_x)\n",
    "plt.title(\"Courbes superposées de l'erreur de troncature \\nsuivant les différentes méthodes\\ny'+y=0\")\n",
    "plt.ylabel('Euler à pas de temps variable en rouge \\nErreur sur la position x')\n",
    "plt.xlabel('temps t, dtmax=0.01')\n",
    "plt.show()"
   ]
  },
  {
   "cell_type": "markdown",
   "metadata": {
    "slideshow": {
     "slide_type": "slide"
    }
   },
   "source": [
    "# 3. Annexe : oscillateur harmonique "
   ]
  },
  {
   "cell_type": "code",
   "execution_count": null,
   "metadata": {
    "scrolled": true
   },
   "outputs": [],
   "source": [
    "###Méthode d'Euler explicite \n",
    "\n",
    "\n",
    "#On va tester le solver avec l'équation différentielle y''+10²y=0, et y(0)=0.5 et y'(0)=0\n",
    "    #sur l'intervalle [0;10], avec un pas de temps de 0.001\n",
    "    #Il s'agit d'un oscillateur harmonique.\n",
    "    \n",
    "#La solution est la fonction définie sur R par f(t)=0.5*cos(10*t)\n",
    "  \n",
    "#Paramètre d'entrée\n",
    "dt=0.001\n",
    "t0=0\n",
    "tf=0.6\n",
    "x0=[0.5,0]\n",
    "\n",
    "\n",
    "def f(t,x):\n",
    "    return np.array([x[1],-10**2*x[0]])\n",
    "\n",
    "\n",
    "def fonction_reference(dt,t0,tf,x0):\n",
    "    les_t=[t0]\n",
    "    les_x=np.array([x0])\n",
    "    while les_t[-1]<tf:\n",
    "        les_t.append(les_t[-1]+dt)\n",
    "        les_x=np.insert(les_x, len(les_x), np.array([0.5*np.cos(10*les_t[-1]),-0.5*10*np.sin(10*les_t[-1])]), axis=0)\n",
    "    return (les_t,les_x)\n",
    "\n",
    "\n",
    "les_t2,les_x2=solve_euler_explicit(f,x0,dt,t0,tf)\n",
    "les_t,les_x=fonction_reference(dt,t0,tf,x0)\n",
    "\n",
    "\n",
    "plt.plot(les_t2,les_x2[:,0],\"r--\")\n",
    "plt.plot(les_t,les_x[:,0])\n",
    "plt.title('Courbes superposées de la fonction solution \\net de la résolution numérique')\n",
    "plt.ylabel('Solution numérique en rouge \\n Position x')\n",
    "plt.xlabel('temps t, dt=0.001')\n",
    "plt.show()\n",
    "\n",
    "les_x=np.array(les_x)    \n",
    "\n",
    "plt.plot(les_t,abs(les_x[:,0]-les_x2[:,0]))\n",
    "plt.title(\"Tracé de l'erreur de troncature en fonction du temps \\nen valeur absolue\")\n",
    "plt.ylabel(\"Erreur sur la position\")\n",
    "plt.xlabel('temps t, dt=0.001')\n",
    "plt.show()   \n",
    "\n",
    "#On choisit comme norme la norme infinie qui renvoie le maximum des composantes d'un vecteur\n",
    "    \n",
    "les_dt=np.linspace(0.0001,0.03,100) #Pas de temps maximal tel qu'on ait au moins 20 itération sur l'intervalle\n",
    "erreur_tronc=[]\n",
    "for delta in les_dt:\n",
    "    les_x2=solve_euler_explicit(f,x0,delta,t0,tf)[1]\n",
    "    les_x=fonction_reference(delta,t0,tf,x0)[1]\n",
    "    erreur_tronc.append(np.max(abs(les_x-les_x2)))\n",
    "\n",
    "plt.plot(les_dt,erreur_tronc)\n",
    "plt.title('Erreur de troncature maximale en fonction des pas de temps choisi')\n",
    "plt.xlabel('Pas de temps dt')\n",
    "plt.show()  \n",
    "\n",
    "print(\"Il se dégage de ce graphe une sorte de droite, donc on peut bien majorer l'erreur de troncature par une droite linéaire de dt.\")"
   ]
  },
  {
   "cell_type": "code",
   "execution_count": null,
   "metadata": {},
   "outputs": [],
   "source": [
    "###Méthode de Heun \n",
    "\n",
    "#On va tester le solver avec l'équation différentielle y''+10²y=0, et y(0)=0.5 et y'(0)=0\n",
    "    #sur l'intervalle [0;10], avec un pas de temps de 0.001\n",
    "    #Il s'agit d'un oscillateur harmonique.\n",
    "\n",
    "les_t2,les_x2=solve_heun(f,x0,dt,t0,tf)\n",
    "les_t,les_x=fonction_reference(dt,t0,tf,x0)\n",
    "\n",
    "\n",
    "plt.plot(les_t2,les_x2[:,0],\"r--\")\n",
    "plt.plot(les_t,les_x[:,0])\n",
    "plt.title('Courbes superposées de la fonction solution \\net de la résolution numérique')\n",
    "plt.ylabel('Solution numérique en rouge \\n Position x')\n",
    "plt.xlabel('temps t, dt=0.001')\n",
    "plt.show()\n",
    "\n",
    "les_x=np.array(les_x)    \n",
    "\n",
    "plt.plot(les_t,abs(les_x[:,0]-les_x2[:,0]))\n",
    "plt.title(\"Tracé de l'erreur de troncature en fonction du temps en valeur absolue\")\n",
    "plt.ylabel(\"Erreur sur la position\")\n",
    "plt.xlabel('temps t, dt=0.001')\n",
    "plt.show()   \n",
    "\n",
    "#On choisit comme norme la norme infinie qui renvoie le maximum des composantes d'un vecteur\n",
    "    \n",
    "les_dt=np.linspace(0.0001,0.03,100) #Pas de temps maximal tel qu'on ait au moins 20 itération sur l'intervalle\n",
    "erreur_tronc=[]\n",
    "for delta in les_dt:\n",
    "    les_x2=solve_heun(f,x0,delta,t0,tf)[1]\n",
    "    les_x=fonction_reference(delta,t0,tf,x0)[1]\n",
    "    erreur_tronc.append(np.max(abs(les_x-les_x2)))\n",
    "\n",
    "les_dt2=[k**2 for k in les_dt]\n",
    "\n",
    "plt.plot(les_dt2,erreur_tronc)\n",
    "plt.title('Erreur de troncature maximale en fonction des pas de temps choisi')\n",
    "plt.xlabel('Pas de temps dt en échelle quadratique')\n",
    "plt.show()  \n"
   ]
  }
 ],
 "metadata": {
  "celltoolbar": "Diaporama",
  "kernelspec": {
   "display_name": "Python 3",
   "language": "python",
   "name": "python3"
  },
  "language_info": {
   "codemirror_mode": {
    "name": "ipython",
    "version": 3
   },
   "file_extension": ".py",
   "mimetype": "text/x-python",
   "name": "python",
   "nbconvert_exporter": "python",
   "pygments_lexer": "ipython3",
   "version": "3.7.4"
  }
 },
 "nbformat": 4,
 "nbformat_minor": 2
}
